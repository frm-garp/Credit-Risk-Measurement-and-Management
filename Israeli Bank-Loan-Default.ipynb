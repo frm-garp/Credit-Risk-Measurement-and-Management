{
 "cells": [
  {
   "cell_type": "markdown",
   "metadata": {},
   "source": [
    "__Logistic Regression__ is a Machine Learning classification algorithm that is used to predict the probability of a categorical dependent variable. In logistic regression, the dependent variable is a binary variable that contains data coded as 1 (yes, success, etc.) or 0 (no, failure, etc.). In other words, the logistic regression model predicts P(Y=1) as a function of X."
   ]
  },
  {
   "cell_type": "markdown",
   "metadata": {},
   "source": [
    "## Logistic Regression Assumptions"
   ]
  },
  {
   "cell_type": "markdown",
   "metadata": {},
   "source": [
    "1. Binary logistic regression requires the dependent variable to be binary.\n",
    "2. For a binary regression, the factor level 1 of the dependent variable should represent the desired outcome.\n",
    "3. Only the meaningful variables should be included.\n",
    "4. The independent variables should be independent of each other. That is, the model should have little or no multicollinearity.\n",
    "5. The independent variables are linearly related to the log odds.\n",
    "6. Logistic regression requires quite large sample sizes.\n",
    "\n",
    "Keeping the above assumptions in mind, let’s look at our dataset."
   ]
  },
  {
   "cell_type": "markdown",
   "metadata": {},
   "source": [
    "# Data"
   ]
  },
  {
   "cell_type": "markdown",
   "metadata": {},
   "source": [
    "The dataset comes from an Israeli banking institutio, and it is related to its retail loans. The classification goal is to predict whether the loan will default (1/0) (variable y)"
   ]
  },
  {
   "cell_type": "code",
   "execution_count": 1,
   "metadata": {},
   "outputs": [],
   "source": [
    "import pandas as pd\n",
    "import numpy as np\n",
    "from sklearn import preprocessing\n",
    "%matplotlib inline\n",
    "import matplotlib\n",
    "matplotlib.rcParams['figure.figsize'] = (10.0, 6.0)\n",
    "import matplotlib.pyplot as plt\n",
    "import seaborn as sns\n",
    "from sklearn.linear_model import LogisticRegression\n",
    "from sklearn.model_selection import train_test_split\n",
    "import seaborn as sns"
   ]
  },
  {
   "cell_type": "markdown",
   "metadata": {},
   "source": [
    "The dataset provides the bank loans’ information. It includes 496 records and 10 fields."
   ]
  },
  {
   "cell_type": "code",
   "execution_count": 2,
   "metadata": {},
   "outputs": [
    {
     "name": "stdout",
     "output_type": "stream",
     "text": [
      "(469, 10)\n",
      "['Applicant_ID', 'Age', 'Education_Level', 'Years_with_Current_Employer', 'Years_at_Current_Address', 'Household_Income_(Thousands_NIS)', 'Debt_to_Income_Ratio_(%)', 'Credit_Card_Debt_(Thousands_NIS)', 'Other_Debt_(Thousands_NIS)', 'y']\n"
     ]
    }
   ],
   "source": [
    "data = pd.read_csv(\"Retail_Loan_Example.csv\",encoding='ISO-8859-1')\n",
    "data = data.dropna()\n",
    "print(data.shape)\n",
    "print(list(data.columns))"
   ]
  },
  {
   "cell_type": "code",
   "execution_count": 3,
   "metadata": {},
   "outputs": [
    {
     "data": {
      "text/html": [
       "<div>\n",
       "<style scoped>\n",
       "    .dataframe tbody tr th:only-of-type {\n",
       "        vertical-align: middle;\n",
       "    }\n",
       "\n",
       "    .dataframe tbody tr th {\n",
       "        vertical-align: top;\n",
       "    }\n",
       "\n",
       "    .dataframe thead th {\n",
       "        text-align: right;\n",
       "    }\n",
       "</style>\n",
       "<table border=\"1\" class=\"dataframe\">\n",
       "  <thead>\n",
       "    <tr style=\"text-align: right;\">\n",
       "      <th></th>\n",
       "      <th>Applicant_ID</th>\n",
       "      <th>Age</th>\n",
       "      <th>Education_Level</th>\n",
       "      <th>Years_with_Current_Employer</th>\n",
       "      <th>Years_at_Current_Address</th>\n",
       "      <th>Household_Income_(Thousands_NIS)</th>\n",
       "      <th>Debt_to_Income_Ratio_(%)</th>\n",
       "      <th>Credit_Card_Debt_(Thousands_NIS)</th>\n",
       "      <th>Other_Debt_(Thousands_NIS)</th>\n",
       "      <th>y</th>\n",
       "    </tr>\n",
       "  </thead>\n",
       "  <tbody>\n",
       "    <tr>\n",
       "      <th>0</th>\n",
       "      <td>545710</td>\n",
       "      <td>41</td>\n",
       "      <td>graduate professional education</td>\n",
       "      <td>17</td>\n",
       "      <td>12</td>\n",
       "      <td>661</td>\n",
       "      <td>9.4</td>\n",
       "      <td>43</td>\n",
       "      <td>19</td>\n",
       "      <td>1</td>\n",
       "    </tr>\n",
       "    <tr>\n",
       "      <th>1</th>\n",
       "      <td>69664096</td>\n",
       "      <td>27</td>\n",
       "      <td>high school</td>\n",
       "      <td>10</td>\n",
       "      <td>6</td>\n",
       "      <td>116</td>\n",
       "      <td>17.2</td>\n",
       "      <td>5</td>\n",
       "      <td>15</td>\n",
       "      <td>0</td>\n",
       "    </tr>\n",
       "    <tr>\n",
       "      <th>2</th>\n",
       "      <td>8965180</td>\n",
       "      <td>40</td>\n",
       "      <td>high school</td>\n",
       "      <td>15</td>\n",
       "      <td>14</td>\n",
       "      <td>207</td>\n",
       "      <td>5.3</td>\n",
       "      <td>3</td>\n",
       "      <td>8</td>\n",
       "      <td>0</td>\n",
       "    </tr>\n",
       "    <tr>\n",
       "      <th>3</th>\n",
       "      <td>70572960</td>\n",
       "      <td>41</td>\n",
       "      <td>high school</td>\n",
       "      <td>15</td>\n",
       "      <td>14</td>\n",
       "      <td>451</td>\n",
       "      <td>2.9</td>\n",
       "      <td>10</td>\n",
       "      <td>3</td>\n",
       "      <td>0</td>\n",
       "    </tr>\n",
       "    <tr>\n",
       "      <th>4</th>\n",
       "      <td>68589517</td>\n",
       "      <td>24</td>\n",
       "      <td>university</td>\n",
       "      <td>2</td>\n",
       "      <td>0</td>\n",
       "      <td>105</td>\n",
       "      <td>17.1</td>\n",
       "      <td>7</td>\n",
       "      <td>11</td>\n",
       "      <td>1</td>\n",
       "    </tr>\n",
       "  </tbody>\n",
       "</table>\n",
       "</div>"
      ],
      "text/plain": [
       "   Applicant_ID  Age                  Education_Level  \\\n",
       "0        545710   41  graduate professional education   \n",
       "1      69664096   27                      high school   \n",
       "2       8965180   40                      high school   \n",
       "3      70572960   41                      high school   \n",
       "4      68589517   24                       university   \n",
       "\n",
       "   Years_with_Current_Employer  Years_at_Current_Address  \\\n",
       "0                           17                        12   \n",
       "1                           10                         6   \n",
       "2                           15                        14   \n",
       "3                           15                        14   \n",
       "4                            2                         0   \n",
       "\n",
       "   Household_Income_(Thousands_NIS)  Debt_to_Income_Ratio_(%)  \\\n",
       "0                               661                       9.4   \n",
       "1                               116                      17.2   \n",
       "2                               207                       5.3   \n",
       "3                               451                       2.9   \n",
       "4                               105                      17.1   \n",
       "\n",
       "   Credit_Card_Debt_(Thousands_NIS)  Other_Debt_(Thousands_NIS)  y  \n",
       "0                                43                          19  1  \n",
       "1                                 5                          15  0  \n",
       "2                                 3                           8  0  \n",
       "3                                10                           3  0  \n",
       "4                                 7                          11  1  "
      ]
     },
     "execution_count": 3,
     "metadata": {},
     "output_type": "execute_result"
    }
   ],
   "source": [
    "data.head()"
   ]
  },
  {
   "cell_type": "markdown",
   "metadata": {},
   "source": [
    "#### Input variables"
   ]
  },
  {
   "cell_type": "markdown",
   "metadata": {},
   "source": [
    "1 - Applicant_ID (numeric)\n",
    "\n",
    "2 - Age: age of loan applicant (numeric)\n",
    "\n",
    "3 - Education_Level : type of education (categorical: 'graduate professional education', 'high school', 'university')\n",
    "\n",
    "4 - Years_with_Current_Employer : number of years with the current employer (numeric)\n",
    "\n",
    "5 - Years_at_Current_Address : number of years at the current address (numeric)\n",
    "\n",
    "6 - Household_Income_(Thousands_NIS) (numeric)\n",
    "\n",
    "7 - Debt_to_Income_Ratio_(%) (numeric)\n",
    "\n",
    "8 - Credit_Card_Debt_(Thousands_NIS) (numeric)\n",
    "\n",
    "9 - Other_Debt_(Thousands_NIS)\n"
   ]
  },
  {
   "cell_type": "markdown",
   "metadata": {},
   "source": [
    "#### Predict variable (desired target):\n",
    "\n",
    "y - has the loan defaulted? (binary: '1','0')"
   ]
  },
  {
   "cell_type": "markdown",
   "metadata": {},
   "source": [
    "The Education_Level column of the dataset has many categories. The Education_Level column has the following categories:"
   ]
  },
  {
   "cell_type": "code",
   "execution_count": 4,
   "metadata": {},
   "outputs": [
    {
     "data": {
      "text/plain": [
       "array(['graduate professional education', 'high school', 'university'],\n",
       "      dtype=object)"
      ]
     },
     "execution_count": 4,
     "metadata": {},
     "output_type": "execute_result"
    }
   ],
   "source": [
    "data['Education_Level'].unique()"
   ]
  },
  {
   "cell_type": "code",
   "execution_count": 5,
   "metadata": {},
   "outputs": [
    {
     "data": {
      "text/html": [
       "<div>\n",
       "<style scoped>\n",
       "    .dataframe tbody tr th:only-of-type {\n",
       "        vertical-align: middle;\n",
       "    }\n",
       "\n",
       "    .dataframe tbody tr th {\n",
       "        vertical-align: top;\n",
       "    }\n",
       "\n",
       "    .dataframe thead th {\n",
       "        text-align: right;\n",
       "    }\n",
       "</style>\n",
       "<table border=\"1\" class=\"dataframe\">\n",
       "  <thead>\n",
       "    <tr style=\"text-align: right;\">\n",
       "      <th></th>\n",
       "      <th>Applicant_ID</th>\n",
       "      <th>Age</th>\n",
       "      <th>Years_with_Current_Employer</th>\n",
       "      <th>Years_at_Current_Address</th>\n",
       "      <th>Household_Income_(Thousands_NIS)</th>\n",
       "      <th>Debt_to_Income_Ratio_(%)</th>\n",
       "      <th>Credit_Card_Debt_(Thousands_NIS)</th>\n",
       "      <th>Other_Debt_(Thousands_NIS)</th>\n",
       "      <th>y</th>\n",
       "    </tr>\n",
       "    <tr>\n",
       "      <th>Education_Level</th>\n",
       "      <th></th>\n",
       "      <th></th>\n",
       "      <th></th>\n",
       "      <th></th>\n",
       "      <th></th>\n",
       "      <th></th>\n",
       "      <th></th>\n",
       "      <th></th>\n",
       "      <th></th>\n",
       "    </tr>\n",
       "  </thead>\n",
       "  <tbody>\n",
       "    <tr>\n",
       "      <th>graduate professional education</th>\n",
       "      <td>5.502124e+07</td>\n",
       "      <td>36.557377</td>\n",
       "      <td>7.967213</td>\n",
       "      <td>9.459016</td>\n",
       "      <td>244.065574</td>\n",
       "      <td>10.622951</td>\n",
       "      <td>8.540984</td>\n",
       "      <td>18.196721</td>\n",
       "      <td>0.360656</td>\n",
       "    </tr>\n",
       "    <tr>\n",
       "      <th>high school</th>\n",
       "      <td>6.262807e+07</td>\n",
       "      <td>34.862454</td>\n",
       "      <td>9.171004</td>\n",
       "      <td>7.855019</td>\n",
       "      <td>143.661710</td>\n",
       "      <td>10.283643</td>\n",
       "      <td>5.319703</td>\n",
       "      <td>9.855019</td>\n",
       "      <td>0.204461</td>\n",
       "    </tr>\n",
       "    <tr>\n",
       "      <th>university</th>\n",
       "      <td>6.526780e+07</td>\n",
       "      <td>33.748201</td>\n",
       "      <td>7.546763</td>\n",
       "      <td>8.438849</td>\n",
       "      <td>176.899281</td>\n",
       "      <td>9.945324</td>\n",
       "      <td>5.503597</td>\n",
       "      <td>11.294964</td>\n",
       "      <td>0.294964</td>\n",
       "    </tr>\n",
       "  </tbody>\n",
       "</table>\n",
       "</div>"
      ],
      "text/plain": [
       "                                 Applicant_ID        Age  \\\n",
       "Education_Level                                            \n",
       "graduate professional education  5.502124e+07  36.557377   \n",
       "high school                      6.262807e+07  34.862454   \n",
       "university                       6.526780e+07  33.748201   \n",
       "\n",
       "                                 Years_with_Current_Employer  \\\n",
       "Education_Level                                                \n",
       "graduate professional education                     7.967213   \n",
       "high school                                         9.171004   \n",
       "university                                          7.546763   \n",
       "\n",
       "                                 Years_at_Current_Address  \\\n",
       "Education_Level                                             \n",
       "graduate professional education                  9.459016   \n",
       "high school                                      7.855019   \n",
       "university                                       8.438849   \n",
       "\n",
       "                                 Household_Income_(Thousands_NIS)  \\\n",
       "Education_Level                                                     \n",
       "graduate professional education                        244.065574   \n",
       "high school                                            143.661710   \n",
       "university                                             176.899281   \n",
       "\n",
       "                                 Debt_to_Income_Ratio_(%)  \\\n",
       "Education_Level                                             \n",
       "graduate professional education                 10.622951   \n",
       "high school                                     10.283643   \n",
       "university                                       9.945324   \n",
       "\n",
       "                                 Credit_Card_Debt_(Thousands_NIS)  \\\n",
       "Education_Level                                                     \n",
       "graduate professional education                          8.540984   \n",
       "high school                                              5.319703   \n",
       "university                                               5.503597   \n",
       "\n",
       "                                 Other_Debt_(Thousands_NIS)         y  \n",
       "Education_Level                                                        \n",
       "graduate professional education                   18.196721  0.360656  \n",
       "high school                                        9.855019  0.204461  \n",
       "university                                        11.294964  0.294964  "
      ]
     },
     "execution_count": 5,
     "metadata": {},
     "output_type": "execute_result"
    }
   ],
   "source": [
    "data.groupby('Education_Level').mean()"
   ]
  },
  {
   "cell_type": "markdown",
   "metadata": {},
   "source": [
    "After grouping, this is the columns:"
   ]
  },
  {
   "cell_type": "markdown",
   "metadata": {},
   "source": [
    "# Data exploration"
   ]
  },
  {
   "cell_type": "code",
   "execution_count": 6,
   "metadata": {},
   "outputs": [
    {
     "data": {
      "text/plain": [
       "0    351\n",
       "1    118\n",
       "Name: y, dtype: int64"
      ]
     },
     "execution_count": 6,
     "metadata": {},
     "output_type": "execute_result"
    }
   ],
   "source": [
    "data['y'].value_counts()"
   ]
  },
  {
   "cell_type": "code",
   "execution_count": 7,
   "metadata": {},
   "outputs": [
    {
     "data": {
      "image/png": "[encoded data removed]",
      "text/plain": [
       "<Figure size 720x432 with 1 Axes>"
      ]
     },
     "metadata": {
      "needs_background": "light"
     },
     "output_type": "display_data"
    },
    {
     "data": {
      "text/plain": [
       "<Figure size 720x432 with 0 Axes>"
      ]
     },
     "metadata": {},
     "output_type": "display_data"
    }
   ],
   "source": [
    "sns.countplot(x='y', data=data)\n",
    "plt.show()\n",
    "plt.savefig('default_count_plot')"
   ]
  },
  {
   "cell_type": "code",
   "execution_count": 8,
   "metadata": {},
   "outputs": [
    {
     "name": "stdout",
     "output_type": "stream",
     "text": [
      "\u001b[1m percentage of no default is\u001b[1m 74.84008528784648\n",
      "\u001b[1m percentage of default is\u001b[1m 25.15991471215352\n"
     ]
    }
   ],
   "source": [
    "count_no_default = len(data[data['y']==0])\n",
    "count_default = len(data[data['y']==1])\n",
    "pct_of_no_default = count_no_default/(count_no_default+count_default)\n",
    "print(\"\\033[1m percentage of no default is\\033[1m\", pct_of_no_default*100)\n",
    "pct_of_default = count_default/(count_no_default+count_default)\n",
    "print(\"\\033[1m percentage of default is\\033[1m\", pct_of_default*100)"
   ]
  },
  {
   "cell_type": "markdown",
   "metadata": {},
   "source": [
    "Our classes are imbalanced, and the ratio of no-default to default instances is 75:25. Before we go ahead to balance the classes, let’s do some more exploration."
   ]
  },
  {
   "cell_type": "code",
   "execution_count": 9,
   "metadata": {},
   "outputs": [
    {
     "data": {
      "text/html": [
       "<div>\n",
       "<style scoped>\n",
       "    .dataframe tbody tr th:only-of-type {\n",
       "        vertical-align: middle;\n",
       "    }\n",
       "\n",
       "    .dataframe tbody tr th {\n",
       "        vertical-align: top;\n",
       "    }\n",
       "\n",
       "    .dataframe thead th {\n",
       "        text-align: right;\n",
       "    }\n",
       "</style>\n",
       "<table border=\"1\" class=\"dataframe\">\n",
       "  <thead>\n",
       "    <tr style=\"text-align: right;\">\n",
       "      <th></th>\n",
       "      <th>Applicant_ID</th>\n",
       "      <th>Age</th>\n",
       "      <th>Years_with_Current_Employer</th>\n",
       "      <th>Years_at_Current_Address</th>\n",
       "      <th>Household_Income_(Thousands_NIS)</th>\n",
       "      <th>Debt_to_Income_Ratio_(%)</th>\n",
       "      <th>Credit_Card_Debt_(Thousands_NIS)</th>\n",
       "      <th>Other_Debt_(Thousands_NIS)</th>\n",
       "    </tr>\n",
       "    <tr>\n",
       "      <th>y</th>\n",
       "      <th></th>\n",
       "      <th></th>\n",
       "      <th></th>\n",
       "      <th></th>\n",
       "      <th></th>\n",
       "      <th></th>\n",
       "      <th></th>\n",
       "      <th></th>\n",
       "    </tr>\n",
       "  </thead>\n",
       "  <tbody>\n",
       "    <tr>\n",
       "      <th>0</th>\n",
       "      <td>6.213198e+07</td>\n",
       "      <td>35.219373</td>\n",
       "      <td>9.524217</td>\n",
       "      <td>8.757835</td>\n",
       "      <td>170.324786</td>\n",
       "      <td>8.701994</td>\n",
       "      <td>4.558405</td>\n",
       "      <td>10.028490</td>\n",
       "    </tr>\n",
       "    <tr>\n",
       "      <th>1</th>\n",
       "      <td>6.328089e+07</td>\n",
       "      <td>33.364407</td>\n",
       "      <td>5.584746</td>\n",
       "      <td>6.686441</td>\n",
       "      <td>155.406780</td>\n",
       "      <td>14.765254</td>\n",
       "      <td>9.466102</td>\n",
       "      <td>15.347458</td>\n",
       "    </tr>\n",
       "  </tbody>\n",
       "</table>\n",
       "</div>"
      ],
      "text/plain": [
       "   Applicant_ID        Age  Years_with_Current_Employer  \\\n",
       "y                                                         \n",
       "0  6.213198e+07  35.219373                     9.524217   \n",
       "1  6.328089e+07  33.364407                     5.584746   \n",
       "\n",
       "   Years_at_Current_Address  Household_Income_(Thousands_NIS)  \\\n",
       "y                                                               \n",
       "0                  8.757835                        170.324786   \n",
       "1                  6.686441                        155.406780   \n",
       "\n",
       "   Debt_to_Income_Ratio_(%)  Credit_Card_Debt_(Thousands_NIS)  \\\n",
       "y                                                               \n",
       "0                  8.701994                          4.558405   \n",
       "1                 14.765254                          9.466102   \n",
       "\n",
       "   Other_Debt_(Thousands_NIS)  \n",
       "y                              \n",
       "0                   10.028490  \n",
       "1                   15.347458  "
      ]
     },
     "execution_count": 9,
     "metadata": {},
     "output_type": "execute_result"
    }
   ],
   "source": [
    "data.groupby('y').mean()"
   ]
  },
  {
   "cell_type": "markdown",
   "metadata": {},
   "source": [
    "Observations:\n",
    "\n",
    "1. The average age of loan applicants who defaulted on their loans is younger than that of the loan applicants who didn't.\n",
    "\n",
    "2. The average education level of loan applicants who defaulted on their loans is a bit higher than that of the loan applicants who didn't.\n",
    "\n",
    "3. The average years with current employer is lower for loan applicants who defaulted on their loans.\n",
    "\n",
    "4. The average years with current address is lower for loan applicants who defaulted on their loans.\n",
    "\n",
    "5. The average household income is lower for loan applicants who defaulted on their loans.\n",
    "\n",
    "6. The average debt to income ratio is lower for loan applicants who defaulted on their loans.\n",
    "\n",
    "7. The average credit card debt is higher for loan applicants who defaulted on their loans.\n",
    "\n",
    "8. The average other debt is higher for loan applicants who defaulted on their loans."
   ]
  },
  {
   "cell_type": "markdown",
   "metadata": {},
   "source": [
    "We can calculate categorical means for education level status to get a more detailed sense of our data."
   ]
  },
  {
   "cell_type": "code",
   "execution_count": 10,
   "metadata": {},
   "outputs": [
    {
     "data": {
      "text/html": [
       "<div>\n",
       "<style scoped>\n",
       "    .dataframe tbody tr th:only-of-type {\n",
       "        vertical-align: middle;\n",
       "    }\n",
       "\n",
       "    .dataframe tbody tr th {\n",
       "        vertical-align: top;\n",
       "    }\n",
       "\n",
       "    .dataframe thead th {\n",
       "        text-align: right;\n",
       "    }\n",
       "</style>\n",
       "<table border=\"1\" class=\"dataframe\">\n",
       "  <thead>\n",
       "    <tr style=\"text-align: right;\">\n",
       "      <th></th>\n",
       "      <th>Applicant_ID</th>\n",
       "      <th>Age</th>\n",
       "      <th>Years_with_Current_Employer</th>\n",
       "      <th>Years_at_Current_Address</th>\n",
       "      <th>Household_Income_(Thousands_NIS)</th>\n",
       "      <th>Debt_to_Income_Ratio_(%)</th>\n",
       "      <th>Credit_Card_Debt_(Thousands_NIS)</th>\n",
       "      <th>Other_Debt_(Thousands_NIS)</th>\n",
       "      <th>y</th>\n",
       "    </tr>\n",
       "    <tr>\n",
       "      <th>Education_Level</th>\n",
       "      <th></th>\n",
       "      <th></th>\n",
       "      <th></th>\n",
       "      <th></th>\n",
       "      <th></th>\n",
       "      <th></th>\n",
       "      <th></th>\n",
       "      <th></th>\n",
       "      <th></th>\n",
       "    </tr>\n",
       "  </thead>\n",
       "  <tbody>\n",
       "    <tr>\n",
       "      <th>graduate professional education</th>\n",
       "      <td>5.502124e+07</td>\n",
       "      <td>36.557377</td>\n",
       "      <td>7.967213</td>\n",
       "      <td>9.459016</td>\n",
       "      <td>244.065574</td>\n",
       "      <td>10.622951</td>\n",
       "      <td>8.540984</td>\n",
       "      <td>18.196721</td>\n",
       "      <td>0.360656</td>\n",
       "    </tr>\n",
       "    <tr>\n",
       "      <th>high school</th>\n",
       "      <td>6.262807e+07</td>\n",
       "      <td>34.862454</td>\n",
       "      <td>9.171004</td>\n",
       "      <td>7.855019</td>\n",
       "      <td>143.661710</td>\n",
       "      <td>10.283643</td>\n",
       "      <td>5.319703</td>\n",
       "      <td>9.855019</td>\n",
       "      <td>0.204461</td>\n",
       "    </tr>\n",
       "    <tr>\n",
       "      <th>university</th>\n",
       "      <td>6.526780e+07</td>\n",
       "      <td>33.748201</td>\n",
       "      <td>7.546763</td>\n",
       "      <td>8.438849</td>\n",
       "      <td>176.899281</td>\n",
       "      <td>9.945324</td>\n",
       "      <td>5.503597</td>\n",
       "      <td>11.294964</td>\n",
       "      <td>0.294964</td>\n",
       "    </tr>\n",
       "  </tbody>\n",
       "</table>\n",
       "</div>"
      ],
      "text/plain": [
       "                                 Applicant_ID        Age  \\\n",
       "Education_Level                                            \n",
       "graduate professional education  5.502124e+07  36.557377   \n",
       "high school                      6.262807e+07  34.862454   \n",
       "university                       6.526780e+07  33.748201   \n",
       "\n",
       "                                 Years_with_Current_Employer  \\\n",
       "Education_Level                                                \n",
       "graduate professional education                     7.967213   \n",
       "high school                                         9.171004   \n",
       "university                                          7.546763   \n",
       "\n",
       "                                 Years_at_Current_Address  \\\n",
       "Education_Level                                             \n",
       "graduate professional education                  9.459016   \n",
       "high school                                      7.855019   \n",
       "university                                       8.438849   \n",
       "\n",
       "                                 Household_Income_(Thousands_NIS)  \\\n",
       "Education_Level                                                     \n",
       "graduate professional education                        244.065574   \n",
       "high school                                            143.661710   \n",
       "university                                             176.899281   \n",
       "\n",
       "                                 Debt_to_Income_Ratio_(%)  \\\n",
       "Education_Level                                             \n",
       "graduate professional education                 10.622951   \n",
       "high school                                     10.283643   \n",
       "university                                       9.945324   \n",
       "\n",
       "                                 Credit_Card_Debt_(Thousands_NIS)  \\\n",
       "Education_Level                                                     \n",
       "graduate professional education                          8.540984   \n",
       "high school                                              5.319703   \n",
       "university                                               5.503597   \n",
       "\n",
       "                                 Other_Debt_(Thousands_NIS)         y  \n",
       "Education_Level                                                        \n",
       "graduate professional education                   18.196721  0.360656  \n",
       "high school                                        9.855019  0.204461  \n",
       "university                                        11.294964  0.294964  "
      ]
     },
     "execution_count": 10,
     "metadata": {},
     "output_type": "execute_result"
    }
   ],
   "source": [
    "data.groupby('Education_Level').mean()"
   ]
  },
  {
   "cell_type": "markdown",
   "metadata": {},
   "source": [
    "# Vizualizations"
   ]
  },
  {
   "cell_type": "code",
   "execution_count": 11,
   "metadata": {},
   "outputs": [
    {
     "data": {
      "image/png": "[encoded data removed]",
      "text/plain": [
       "<Figure size 720x432 with 1 Axes>"
      ]
     },
     "metadata": {
      "needs_background": "light"
     },
     "output_type": "display_data"
    }
   ],
   "source": [
    "import seaborn as sns\n",
    "sns.kdeplot(data['Age'].loc[data['y'] == 0], label='not default', shade=True);\n",
    "sns.kdeplot(data['Age'].loc[data['y'] == 1], label='default', shade=True);"
   ]
  },
  {
   "cell_type": "code",
   "execution_count": 12,
   "metadata": {},
   "outputs": [
    {
     "data": {
      "text/plain": [
       "count    351.000000\n",
       "mean      35.219373\n",
       "std        7.631908\n",
       "min       20.000000\n",
       "25%       29.000000\n",
       "50%       35.000000\n",
       "75%       40.000000\n",
       "max       56.000000\n",
       "Name: Age, dtype: float64"
      ]
     },
     "execution_count": 12,
     "metadata": {},
     "output_type": "execute_result"
    }
   ],
   "source": [
    "data['Age'].loc[data['y'] == 0].describe()"
   ]
  },
  {
   "cell_type": "code",
   "execution_count": 13,
   "metadata": {},
   "outputs": [
    {
     "data": {
      "text/plain": [
       "count    118.000000\n",
       "mean      33.364407\n",
       "std        8.255188\n",
       "min       21.000000\n",
       "25%       27.000000\n",
       "50%       31.000000\n",
       "75%       39.000000\n",
       "max       55.000000\n",
       "Name: Age, dtype: float64"
      ]
     },
     "execution_count": 13,
     "metadata": {},
     "output_type": "execute_result"
    }
   ],
   "source": [
    "data['Age'].loc[data['y'] == 1].describe()"
   ]
  },
  {
   "cell_type": "code",
   "execution_count": 14,
   "metadata": {},
   "outputs": [
    {
     "data": {
      "image/png": "[encoded data removed]",
      "text/plain": [
       "<Figure size 720x432 with 1 Axes>"
      ]
     },
     "metadata": {
      "needs_background": "light"
     },
     "output_type": "display_data"
    }
   ],
   "source": [
    "table=pd.crosstab(data.Education_Level,data.y)\n",
    "table.div(table.sum(1).astype(float), axis=0).plot(kind='bar', stacked=True)\n",
    "plt.title('Stacked Bar Chart of Education Level vs Churn')\n",
    "plt.xlabel('Education_Level')\n",
    "plt.ylabel('Proportion of Applicants')\n",
    "plt.savefig('Education_Level_vs_pur_stack')"
   ]
  },
  {
   "cell_type": "code",
   "execution_count": 15,
   "metadata": {},
   "outputs": [
    {
     "data": {
      "image/png": "[encoded data removed]",
      "text/plain": [
       "<Figure size 720x432 with 1 Axes>"
      ]
     },
     "metadata": {
      "needs_background": "light"
     },
     "output_type": "display_data"
    }
   ],
   "source": [
    "sns.kdeplot(data['Years_with_Current_Employer'].loc[data['y'] == 0], label='not default', shade=True);\n",
    "sns.kdeplot(data['Years_with_Current_Employer'].loc[data['y'] == 1], label='default', shade=True);"
   ]
  },
  {
   "cell_type": "code",
   "execution_count": 16,
   "metadata": {},
   "outputs": [
    {
     "data": {
      "text/plain": [
       "count    351.000000\n",
       "mean       9.524217\n",
       "std        6.375297\n",
       "min        0.000000\n",
       "25%        4.000000\n",
       "50%        9.000000\n",
       "75%       14.000000\n",
       "max       27.000000\n",
       "Name: Years_with_Current_Employer, dtype: float64"
      ]
     },
     "execution_count": 16,
     "metadata": {},
     "output_type": "execute_result"
    }
   ],
   "source": [
    "data['Years_with_Current_Employer'].loc[data['y'] == 0].describe()"
   ]
  },
  {
   "cell_type": "code",
   "execution_count": 17,
   "metadata": {},
   "outputs": [
    {
     "data": {
      "text/plain": [
       "count    118.000000\n",
       "mean       5.584746\n",
       "std        5.630087\n",
       "min        0.000000\n",
       "25%        1.250000\n",
       "50%        4.000000\n",
       "75%        9.000000\n",
       "max       29.000000\n",
       "Name: Years_with_Current_Employer, dtype: float64"
      ]
     },
     "execution_count": 17,
     "metadata": {},
     "output_type": "execute_result"
    }
   ],
   "source": [
    "data['Years_with_Current_Employer'].loc[data['y'] == 1].describe()"
   ]
  },
  {
   "cell_type": "code",
   "execution_count": 18,
   "metadata": {},
   "outputs": [
    {
     "data": {
      "image/png": "[encoded data removed]",
      "text/plain": [
       "<Figure size 720x432 with 1 Axes>"
      ]
     },
     "metadata": {
      "needs_background": "light"
     },
     "output_type": "display_data"
    }
   ],
   "source": [
    "sns.kdeplot(data['Years_at_Current_Address'].loc[data['y'] == 0], label='not default', shade=True);\n",
    "sns.kdeplot(data['Years_at_Current_Address'].loc[data['y'] == 1], label='default', shade=True);"
   ]
  },
  {
   "cell_type": "code",
   "execution_count": 19,
   "metadata": {},
   "outputs": [
    {
     "data": {
      "text/plain": [
       "count    351.000000\n",
       "mean       8.757835\n",
       "std        6.875716\n",
       "min        0.000000\n",
       "25%        3.000000\n",
       "50%        8.000000\n",
       "75%       13.000000\n",
       "max       31.000000\n",
       "Name: Years_at_Current_Address, dtype: float64"
      ]
     },
     "execution_count": 19,
     "metadata": {},
     "output_type": "execute_result"
    }
   ],
   "source": [
    "data['Years_at_Current_Address'].loc[data['y'] == 0].describe()"
   ]
  },
  {
   "cell_type": "code",
   "execution_count": 20,
   "metadata": {},
   "outputs": [
    {
     "data": {
      "text/plain": [
       "count    118.000000\n",
       "mean       6.686441\n",
       "std        5.872868\n",
       "min        0.000000\n",
       "25%        2.000000\n",
       "50%        5.000000\n",
       "75%       11.000000\n",
       "max       26.000000\n",
       "Name: Years_at_Current_Address, dtype: float64"
      ]
     },
     "execution_count": 20,
     "metadata": {},
     "output_type": "execute_result"
    }
   ],
   "source": [
    "data['Years_at_Current_Address'].loc[data['y'] == 1].describe()"
   ]
  },
  {
   "cell_type": "code",
   "execution_count": 21,
   "metadata": {},
   "outputs": [
    {
     "data": {
      "image/png": "[encoded data removed]",
      "text/plain": [
       "<Figure size 720x432 with 1 Axes>"
      ]
     },
     "metadata": {
      "needs_background": "light"
     },
     "output_type": "display_data"
    }
   ],
   "source": [
    "sns.kdeplot(data['Household_Income_(Thousands_NIS)'].loc[data['y'] == 0], label='not default', shade=True);\n",
    "sns.kdeplot(data['Household_Income_(Thousands_NIS)'].loc[data['y'] == 1], label='default', shade=True);"
   ]
  },
  {
   "cell_type": "code",
   "execution_count": 22,
   "metadata": {},
   "outputs": [
    {
     "data": {
      "text/plain": [
       "count    351.000000\n",
       "mean     170.324786\n",
       "std      111.494663\n",
       "min       53.000000\n",
       "25%       94.000000\n",
       "50%      135.000000\n",
       "75%      210.000000\n",
       "max      909.000000\n",
       "Name: Household_Income_(Thousands_NIS), dtype: float64"
      ]
     },
     "execution_count": 22,
     "metadata": {},
     "output_type": "execute_result"
    }
   ],
   "source": [
    "data['Household_Income_(Thousands_NIS)'].loc[data['y'] == 0].describe()"
   ]
  },
  {
   "cell_type": "code",
   "execution_count": 23,
   "metadata": {},
   "outputs": [
    {
     "data": {
      "text/plain": [
       "count    118.000000\n",
       "mean     155.406780\n",
       "std      131.632241\n",
       "min       53.000000\n",
       "25%       79.000000\n",
       "50%      105.000000\n",
       "75%      187.000000\n",
       "max      830.000000\n",
       "Name: Household_Income_(Thousands_NIS), dtype: float64"
      ]
     },
     "execution_count": 23,
     "metadata": {},
     "output_type": "execute_result"
    }
   ],
   "source": [
    "data['Household_Income_(Thousands_NIS)'].loc[data['y'] == 1].describe()"
   ]
  },
  {
   "cell_type": "code",
   "execution_count": 24,
   "metadata": {},
   "outputs": [
    {
     "data": {
      "image/png": "[encoded data removed]",
      "text/plain": [
       "<Figure size 720x432 with 1 Axes>"
      ]
     },
     "metadata": {
      "needs_background": "light"
     },
     "output_type": "display_data"
    }
   ],
   "source": [
    "sns.kdeplot(data['Debt_to_Income_Ratio_(%)'].loc[data['y'] == 0], label='not default', shade=True);\n",
    "sns.kdeplot(data['Debt_to_Income_Ratio_(%)'].loc[data['y'] == 1], label='default', shade=True);"
   ]
  },
  {
   "cell_type": "code",
   "execution_count": 25,
   "metadata": {},
   "outputs": [
    {
     "data": {
      "text/plain": [
       "count    351.000000\n",
       "mean       8.701994\n",
       "std        5.899179\n",
       "min        0.000000\n",
       "25%        4.350000\n",
       "50%        7.300000\n",
       "75%       12.050000\n",
       "max       30.600000\n",
       "Name: Debt_to_Income_Ratio_(%), dtype: float64"
      ]
     },
     "execution_count": 25,
     "metadata": {},
     "output_type": "execute_result"
    }
   ],
   "source": [
    "data['Debt_to_Income_Ratio_(%)'].loc[data['y'] == 0].describe()"
   ]
  },
  {
   "cell_type": "code",
   "execution_count": 26,
   "metadata": {},
   "outputs": [
    {
     "data": {
      "text/plain": [
       "count    118.000000\n",
       "mean      14.765254\n",
       "std        7.380494\n",
       "min        2.500000\n",
       "25%        8.975000\n",
       "50%       14.100000\n",
       "75%       19.250000\n",
       "max       41.100000\n",
       "Name: Debt_to_Income_Ratio_(%), dtype: float64"
      ]
     },
     "execution_count": 26,
     "metadata": {},
     "output_type": "execute_result"
    }
   ],
   "source": [
    "data['Debt_to_Income_Ratio_(%)'].loc[data['y'] == 1].describe()"
   ]
  },
  {
   "cell_type": "code",
   "execution_count": 27,
   "metadata": {},
   "outputs": [
    {
     "data": {
      "image/png": "[encoded data removed]",
      "text/plain": [
       "<Figure size 720x432 with 1 Axes>"
      ]
     },
     "metadata": {
      "needs_background": "light"
     },
     "output_type": "display_data"
    }
   ],
   "source": [
    "sns.kdeplot(data['Credit_Card_Debt_(Thousands_NIS)'].loc[data['y'] == 0], label='not default', shade=True);\n",
    "sns.kdeplot(data['Credit_Card_Debt_(Thousands_NIS)'].loc[data['y'] == 1], label='default', shade=True);"
   ]
  },
  {
   "cell_type": "code",
   "execution_count": 28,
   "metadata": {},
   "outputs": [
    {
     "data": {
      "text/plain": [
       "count    351.000000\n",
       "mean       4.558405\n",
       "std        5.155456\n",
       "min        0.000000\n",
       "25%        1.000000\n",
       "50%        3.000000\n",
       "75%        6.000000\n",
       "max       37.000000\n",
       "Name: Credit_Card_Debt_(Thousands_NIS), dtype: float64"
      ]
     },
     "execution_count": 28,
     "metadata": {},
     "output_type": "execute_result"
    }
   ],
   "source": [
    "data['Credit_Card_Debt_(Thousands_NIS)'].loc[data['y'] == 0].describe()"
   ]
  },
  {
   "cell_type": "code",
   "execution_count": 29,
   "metadata": {},
   "outputs": [
    {
     "data": {
      "text/plain": [
       "count    118.000000\n",
       "mean       9.466102\n",
       "std       12.764589\n",
       "min        0.000000\n",
       "25%        2.000000\n",
       "50%        5.000000\n",
       "75%       11.000000\n",
       "max       77.000000\n",
       "Name: Credit_Card_Debt_(Thousands_NIS), dtype: float64"
      ]
     },
     "execution_count": 29,
     "metadata": {},
     "output_type": "execute_result"
    }
   ],
   "source": [
    "data['Credit_Card_Debt_(Thousands_NIS)'].loc[data['y'] == 1].describe()"
   ]
  },
  {
   "cell_type": "code",
   "execution_count": 30,
   "metadata": {},
   "outputs": [
    {
     "data": {
      "image/png": "[encoded data removed]",
      "text/plain": [
       "<Figure size 720x432 with 1 Axes>"
      ]
     },
     "metadata": {
      "needs_background": "light"
     },
     "output_type": "display_data"
    }
   ],
   "source": [
    "sns.kdeplot(data['Other_Debt_(Thousands_NIS)'].loc[data['y'] == 0], label='not default', shade=True);\n",
    "sns.kdeplot(data['Other_Debt_(Thousands_NIS)'].loc[data['y'] == 1], label='default', shade=True);"
   ]
  },
  {
   "cell_type": "code",
   "execution_count": 31,
   "metadata": {},
   "outputs": [
    {
     "data": {
      "text/plain": [
       "count    351.000000\n",
       "mean      10.028490\n",
       "std       10.330774\n",
       "min        0.000000\n",
       "25%        4.000000\n",
       "50%        7.000000\n",
       "75%       12.000000\n",
       "max       69.000000\n",
       "Name: Other_Debt_(Thousands_NIS), dtype: float64"
      ]
     },
     "execution_count": 31,
     "metadata": {},
     "output_type": "execute_result"
    }
   ],
   "source": [
    "data['Other_Debt_(Thousands_NIS)'].loc[data['y'] == 0].describe()"
   ]
  },
  {
   "cell_type": "code",
   "execution_count": 32,
   "metadata": {},
   "outputs": [
    {
     "data": {
      "text/plain": [
       "count    118.000000\n",
       "mean      15.347458\n",
       "std       17.155586\n",
       "min        1.000000\n",
       "25%        5.250000\n",
       "50%       10.000000\n",
       "75%       17.750000\n",
       "max      102.000000\n",
       "Name: Other_Debt_(Thousands_NIS), dtype: float64"
      ]
     },
     "execution_count": 32,
     "metadata": {},
     "output_type": "execute_result"
    }
   ],
   "source": [
    "data['Other_Debt_(Thousands_NIS)'].loc[data['y'] == 1].describe()"
   ]
  },
  {
   "cell_type": "markdown",
   "metadata": {},
   "source": [
    "# Create dummy variables"
   ]
  },
  {
   "cell_type": "markdown",
   "metadata": {},
   "source": [
    "That is variables with only two values, zero and one."
   ]
  },
  {
   "cell_type": "code",
   "execution_count": 33,
   "metadata": {},
   "outputs": [],
   "source": [
    "cat_vars=['Education_Level']\n",
    "for var in cat_vars:\n",
    "    cat_list='var'+'_'+var\n",
    "    cat_list = pd.get_dummies(data[var], prefix=var)\n",
    "    data1=data.join(cat_list)\n",
    "    data=data1\n",
    "cat_vars=['Education_Level']\n",
    "data_vars=data.columns.values.tolist()\n",
    "to_keep=[i for i in data_vars if i not in cat_vars]"
   ]
  },
  {
   "cell_type": "markdown",
   "metadata": {},
   "source": [
    "Our final data columns will be:"
   ]
  },
  {
   "cell_type": "code",
   "execution_count": 34,
   "metadata": {},
   "outputs": [
    {
     "data": {
      "text/plain": [
       "array(['Applicant_ID', 'Age', 'Years_with_Current_Employer',\n",
       "       'Years_at_Current_Address', 'Household_Income_(Thousands_NIS)',\n",
       "       'Debt_to_Income_Ratio_(%)', 'Credit_Card_Debt_(Thousands_NIS)',\n",
       "       'Other_Debt_(Thousands_NIS)', 'y',\n",
       "       'Education_Level_graduate professional education',\n",
       "       'Education_Level_high school', 'Education_Level_university'],\n",
       "      dtype=object)"
      ]
     },
     "execution_count": 34,
     "metadata": {},
     "output_type": "execute_result"
    }
   ],
   "source": [
    "data_final=data[to_keep]\n",
    "data_final.columns.values"
   ]
  },
  {
   "cell_type": "code",
   "execution_count": 35,
   "metadata": {},
   "outputs": [
    {
     "name": "stderr",
     "output_type": "stream",
     "text": [
      "C:\\ProgramData\\Anaconda3\\lib\\site-packages\\pandas\\core\\frame.py:4117: SettingWithCopyWarning: \n",
      "A value is trying to be set on a copy of a slice from a DataFrame\n",
      "\n",
      "See the caveats in the documentation: http://pandas.pydata.org/pandas-docs/stable/user_guide/indexing.html#returning-a-view-versus-a-copy\n",
      "  errors=errors,\n"
     ]
    }
   ],
   "source": [
    "data_final.drop(['Applicant_ID'], axis=1, inplace=True)"
   ]
  },
  {
   "cell_type": "markdown",
   "metadata": {},
   "source": [
    "# Over-sampling using SMOTE"
   ]
  },
  {
   "cell_type": "markdown",
   "metadata": {},
   "source": [
    "With our training data created, I’ll up-sample the no-subscription using the __SMOTE algorithm__ (Synthetic Minority Oversampling Technique). At a high level, SMOTE:\n",
    "\n",
    "1. Works by creating synthetic samples from the minor class (no-subscription) instead of creating copies.\n",
    "\n",
    "2. Randomly choosing one of the k-nearest-neighbors and using it to create a similar, but randomly tweaked, new observations.\n",
    "\n",
    "We are going to implement SMOTE in Python."
   ]
  },
  {
   "cell_type": "code",
   "execution_count": 36,
   "metadata": {},
   "outputs": [
    {
     "name": "stderr",
     "output_type": "stream",
     "text": [
      "Using TensorFlow backend.\n",
      "C:\\ProgramData\\Anaconda3\\lib\\site-packages\\tensorflow\\python\\framework\\dtypes.py:526: FutureWarning: Passing (type, 1) or '1type' as a synonym of type is deprecated; in a future version of numpy, it will be understood as (type, (1,)) / '(1,)type'.\n",
      "  _np_qint8 = np.dtype([(\"qint8\", np.int8, 1)])\n",
      "C:\\ProgramData\\Anaconda3\\lib\\site-packages\\tensorflow\\python\\framework\\dtypes.py:527: FutureWarning: Passing (type, 1) or '1type' as a synonym of type is deprecated; in a future version of numpy, it will be understood as (type, (1,)) / '(1,)type'.\n",
      "  _np_quint8 = np.dtype([(\"quint8\", np.uint8, 1)])\n",
      "C:\\ProgramData\\Anaconda3\\lib\\site-packages\\tensorflow\\python\\framework\\dtypes.py:528: FutureWarning: Passing (type, 1) or '1type' as a synonym of type is deprecated; in a future version of numpy, it will be understood as (type, (1,)) / '(1,)type'.\n",
      "  _np_qint16 = np.dtype([(\"qint16\", np.int16, 1)])\n",
      "C:\\ProgramData\\Anaconda3\\lib\\site-packages\\tensorflow\\python\\framework\\dtypes.py:529: FutureWarning: Passing (type, 1) or '1type' as a synonym of type is deprecated; in a future version of numpy, it will be understood as (type, (1,)) / '(1,)type'.\n",
      "  _np_quint16 = np.dtype([(\"quint16\", np.uint16, 1)])\n",
      "C:\\ProgramData\\Anaconda3\\lib\\site-packages\\tensorflow\\python\\framework\\dtypes.py:530: FutureWarning: Passing (type, 1) or '1type' as a synonym of type is deprecated; in a future version of numpy, it will be understood as (type, (1,)) / '(1,)type'.\n",
      "  _np_qint32 = np.dtype([(\"qint32\", np.int32, 1)])\n",
      "C:\\ProgramData\\Anaconda3\\lib\\site-packages\\tensorflow\\python\\framework\\dtypes.py:535: FutureWarning: Passing (type, 1) or '1type' as a synonym of type is deprecated; in a future version of numpy, it will be understood as (type, (1,)) / '(1,)type'.\n",
      "  np_resource = np.dtype([(\"resource\", np.ubyte, 1)])\n"
     ]
    },
    {
     "name": "stdout",
     "output_type": "stream",
     "text": [
      "\u001b[1m length of oversampled data is 502\n",
      "\u001b[1m Number of no default in oversampled data 251\n",
      "\u001b[1m Number of default 251\n",
      "\u001b[1m Proportion of no default data in oversampled data is  0.5\n",
      "\u001b[1m Proportion of default data in oversampled data is  0.5\n"
     ]
    }
   ],
   "source": [
    "X = data_final.loc[:, data_final.columns != 'y']\n",
    "y = data_final.loc[:, data_final.columns == 'y']\n",
    "from imblearn.over_sampling import SMOTE\n",
    "os = SMOTE(random_state=0)\n",
    "X_train, X_test, y_train, y_test = train_test_split(X, y, test_size=0.3, random_state=0)\n",
    "columns = X_train.columns\n",
    "os_data_X,os_data_y=os.fit_sample(X_train, y_train)\n",
    "os_data_X = pd.DataFrame(data=os_data_X,columns=columns )\n",
    "os_data_y= pd.DataFrame(data=os_data_y,columns=['y'])\n",
    "# we can Check the numbers of our data\n",
    "print(\"\\033[1m length of oversampled data is\" ,len(os_data_X))\n",
    "print(\"\\033[1m Number of no default in oversampled data\",len(os_data_y[os_data_y['y']==0]))\n",
    "print(\"\\033[1m Number of default\",len(os_data_y[os_data_y['y']==1]))\n",
    "print(\"\\033[1m Proportion of no default data in oversampled data is \",len(os_data_y[os_data_y['y']==0])/len(os_data_X))\n",
    "print(\"\\033[1m Proportion of default data in oversampled data is \",len(os_data_y[os_data_y['y']==1])/len(os_data_X))"
   ]
  },
  {
   "cell_type": "markdown",
   "metadata": {},
   "source": [
    "Now we have a perfect balanced data! You may have noticed that I over-sampled only on the training data, because by oversampling only on the training data, none of the information in the test data is being used to create synthetic observations, therefore, no information will bleed from test data into the model training."
   ]
  },
  {
   "cell_type": "markdown",
   "metadata": {},
   "source": [
    "# Recursive Feature Elimination"
   ]
  },
  {
   "cell_type": "markdown",
   "metadata": {},
   "source": [
    "__Recursive Feature Elimination (RFE)__ is based on the idea to repeatedly construct a model and choose either the best or worst performing feature, setting the feature aside and then repeating the process with the rest of the features. This process is applied until all features in the dataset are exhausted. The goal of RFE is to select features by recursively considering smaller and smaller sets of features."
   ]
  },
  {
   "cell_type": "code",
   "execution_count": 37,
   "metadata": {},
   "outputs": [
    {
     "name": "stdout",
     "output_type": "stream",
     "text": [
      "[ True  True  True  True  True  True  True  True  True  True]\n",
      "[1 1 1 1 1 1 1 1 1 1]\n"
     ]
    },
    {
     "name": "stderr",
     "output_type": "stream",
     "text": [
      "C:\\ProgramData\\Anaconda3\\lib\\site-packages\\sklearn\\linear_model\\_logistic.py:940: ConvergenceWarning: lbfgs failed to converge (status=1):\n",
      "STOP: TOTAL NO. of ITERATIONS REACHED LIMIT.\n",
      "\n",
      "Increase the number of iterations (max_iter) or scale the data as shown in:\n",
      "    https://scikit-learn.org/stable/modules/preprocessing.html\n",
      "Please also refer to the documentation for alternative solver options:\n",
      "    https://scikit-learn.org/stable/modules/linear_model.html#logistic-regression\n",
      "  extra_warning_msg=_LOGISTIC_SOLVER_CONVERGENCE_MSG)\n"
     ]
    }
   ],
   "source": [
    "data_final_vars=data_final.columns.values.tolist()\n",
    "y=['y']\n",
    "X=[i for i in data_final_vars if i not in y]\n",
    "from sklearn.feature_selection import RFE\n",
    "from sklearn.linear_model import LogisticRegression\n",
    "logreg = LogisticRegression()\n",
    "rfe = RFE(logreg, 20)\n",
    "rfe = rfe.fit(os_data_X, os_data_y.values.ravel())\n",
    "print(rfe.support_)\n",
    "print(rfe.ranking_)"
   ]
  },
  {
   "cell_type": "markdown",
   "metadata": {},
   "source": [
    "The RFE has helped us select the following features: 'Age', 'Years_with_Current_Employer', 'Years_at_Current_Address','Household_Income_(Thousands_NIS)', 'Debt_to_Income_Ratio_(%)','Credit_Card_Debt_(Thousands_NIS)', 'Other_Debt_(Thousands_NIS)','Education_Level_graduate professional education','Education_Level_high school', 'Education_Level_university'."
   ]
  },
  {
   "cell_type": "code",
   "execution_count": 38,
   "metadata": {},
   "outputs": [],
   "source": [
    "cols=['Age', 'Years_with_Current_Employer', 'Years_at_Current_Address','Household_Income_(Thousands_NIS)',\n",
    "      'Debt_to_Income_Ratio_(%)','Credit_Card_Debt_(Thousands_NIS)', 'Other_Debt_(Thousands_NIS)',\n",
    "      'Education_Level_graduate professional education','Education_Level_high school', 'Education_Level_university'] \n",
    "X=os_data_X[cols]\n",
    "y=os_data_y['y']"
   ]
  },
  {
   "cell_type": "markdown",
   "metadata": {},
   "source": [
    "# Gradient Boosting Classifier Model Fitting"
   ]
  },
  {
   "cell_type": "code",
   "execution_count": 39,
   "metadata": {},
   "outputs": [
    {
     "data": {
      "text/plain": [
       "GradientBoostingClassifier(ccp_alpha=0.0, criterion='friedman_mse', init=None,\n",
       "                           learning_rate=0.1, loss='deviance', max_depth=3,\n",
       "                           max_features=None, max_leaf_nodes=None,\n",
       "                           min_impurity_decrease=0.0, min_impurity_split=None,\n",
       "                           min_samples_leaf=1, min_samples_split=2,\n",
       "                           min_weight_fraction_leaf=0.0, n_estimators=100,\n",
       "                           n_iter_no_change=None, presort='deprecated',\n",
       "                           random_state=None, subsample=1.0, tol=0.0001,\n",
       "                           validation_fraction=0.1, verbose=0,\n",
       "                           warm_start=False)"
      ]
     },
     "execution_count": 39,
     "metadata": {},
     "output_type": "execute_result"
    }
   ],
   "source": [
    "from sklearn.ensemble import GradientBoostingClassifier\n",
    "from sklearn import metrics\n",
    "\n",
    "X_train, X_test, y_train, y_test = train_test_split(X, y, test_size=0.3, random_state=0)\n",
    "gb = GradientBoostingClassifier()\n",
    "gb.fit(X_train, y_train)"
   ]
  },
  {
   "cell_type": "markdown",
   "metadata": {},
   "source": [
    "### Predicting the test set results and calculating the accuracy"
   ]
  },
  {
   "cell_type": "code",
   "execution_count": 40,
   "metadata": {},
   "outputs": [
    {
     "name": "stdout",
     "output_type": "stream",
     "text": [
      "\u001b[1m Accuracy of gradient boosting classifier on test set: 0.85\n"
     ]
    }
   ],
   "source": [
    "y_pred = gb.predict(X_test)\n",
    "print(\"\\033[1m Accuracy of gradient boosting classifier on test set:\", '{:.2f}'.format(gb.score(X_test, y_test)))"
   ]
  },
  {
   "cell_type": "markdown",
   "metadata": {},
   "source": [
    "# Confusion Matrix"
   ]
  },
  {
   "cell_type": "code",
   "execution_count": 41,
   "metadata": {},
   "outputs": [
    {
     "name": "stdout",
     "output_type": "stream",
     "text": [
      "[[53 14]\n",
      " [ 8 76]]\n"
     ]
    }
   ],
   "source": [
    "from sklearn.metrics import confusion_matrix\n",
    "\n",
    "confusion_matrix = confusion_matrix(y_test, y_pred)\n",
    "print(confusion_matrix)"
   ]
  },
  {
   "cell_type": "code",
   "execution_count": 42,
   "metadata": {},
   "outputs": [
    {
     "name": "stdout",
     "output_type": "stream",
     "text": [
      "\u001b[1m The result is telling us that we have:  129 correct predictions\u001b[1m\n",
      "\u001b[1m The result is telling us that we have:  22 incorrect predictions\u001b[1m\n",
      "\u001b[1m We have a total predictions of:  151\n"
     ]
    }
   ],
   "source": [
    "print(\"\\033[1m The result is telling us that we have: \",(confusion_matrix[0,0]+confusion_matrix[1,1]),\"correct predictions\\033[1m\")\n",
    "print(\"\\033[1m The result is telling us that we have: \",(confusion_matrix[0,1]+confusion_matrix[1,0]),\"incorrect predictions\\033[1m\")\n",
    "print(\"\\033[1m We have a total predictions of: \",(confusion_matrix.sum()))"
   ]
  },
  {
   "cell_type": "markdown",
   "metadata": {},
   "source": [
    "# Compute precision, recall, F-measure and support"
   ]
  },
  {
   "cell_type": "markdown",
   "metadata": {},
   "source": [
    "To quote from Scikit Learn:\n",
    "\n",
    "The precision is the ratio tp / (tp + fp) where tp is the number of true positives and fp the number of false positives. The precision is intuitively the ability of the classifier to not label a sample as positive if it is negative.\n",
    "\n",
    "The recall is the ratio tp / (tp + fn) where tp is the number of true positives and fn the number of false negatives. The recall is intuitively the ability of the classifier to find all the positive samples.\n",
    "\n",
    "The F-beta score can be interpreted as a weighted harmonic mean of the precision and recall, where an F-beta score reaches its best value at 1 and worst score at 0.\n",
    "\n",
    "The F-beta score weights the recall more than the precision by a factor of beta. beta = 1.0 means recall and precision are equally important.\n",
    "\n",
    "The support is the number of occurrences of each class in y_test."
   ]
  },
  {
   "cell_type": "code",
   "execution_count": 43,
   "metadata": {},
   "outputs": [
    {
     "name": "stdout",
     "output_type": "stream",
     "text": [
      "              precision    recall  f1-score   support\n",
      "\n",
      "           0       0.87      0.79      0.83        67\n",
      "           1       0.84      0.90      0.87        84\n",
      "\n",
      "    accuracy                           0.85       151\n",
      "   macro avg       0.86      0.85      0.85       151\n",
      "weighted avg       0.86      0.85      0.85       151\n",
      "\n"
     ]
    }
   ],
   "source": [
    "from sklearn.metrics import classification_report\n",
    "print(classification_report(y_test, y_pred))"
   ]
  },
  {
   "cell_type": "code",
   "execution_count": 44,
   "metadata": {},
   "outputs": [
    {
     "name": "stdout",
     "output_type": "stream",
     "text": [
      "Accuracy of gradient boosting classifier: 85.43%\n",
      "Well, you got a classification rate of 85.43%\n",
      "\n",
      "Precision of gradient boosting classifier: 84.44%\n",
      "Precision: Precision is about being precise, i.e., how precise your model is. In other words, you can\n",
      "say, when a model makes a prediction, how often it is correct. In our prediction case, when our gradient\n",
      "boosting classifier predicted a loan is going to default, that loan actually defaulted 84.44% of\n",
      " the time.\n",
      "\n",
      "Recall of gradient boosting classifier: 90.48%\n",
      "Recall: If there is a loan who defaulted the company present in the test set, our gradient boosting classifier\n",
      "can identify it 90.48% of the time.\n"
     ]
    }
   ],
   "source": [
    "#Import scikit-learn metrics module for accuracy calculation\n",
    "from sklearn import metrics\n",
    "#calculate Accuracy, how often is the classifier correct?\n",
    "print(\"Accuracy of gradient boosting classifier:\", \"{:.2%}\".format(metrics.accuracy_score(y_test, y_pred)))\n",
    "print(\"Well, you got a classification rate of\", \"{:.2%}\".format(metrics.accuracy_score(y_test, y_pred)))\n",
    "#calculate Precision\n",
    "print(\"\\nPrecision of gradient boosting classifier:\", \"{:.2%}\".format(metrics.precision_score(y_test, y_pred)))\n",
    "print(\"Precision: Precision is about being precise, i.e., how precise your model is. In other words, you can\\nsay, when a model makes a prediction, how often it is correct. In our prediction case, when our gradient\\nboosting classifier predicted a loan is going to default, that loan actually defaulted\",\"{:.2%}\".format(metrics.precision_score(y_test, y_pred)),\"of\\n the time.\")\n",
    "#calculate Recall\n",
    "print(\"\\nRecall of gradient boosting classifier:\", \"{:.2%}\".format(metrics.recall_score(y_test, y_pred)))\n",
    "print(\"Recall: If there is a loan who defaulted the company present in the test set, our gradient boosting classifier\\ncan identify it\", \"{:.2%}\".format(metrics.recall_score(y_test, y_pred)) ,\"of the time.\")"
   ]
  },
  {
   "cell_type": "markdown",
   "metadata": {},
   "source": [
    "# ROC Curve"
   ]
  },
  {
   "cell_type": "code",
   "execution_count": 45,
   "metadata": {},
   "outputs": [
    {
     "data": {
      "image/png": "[encoded data removed]",
      "text/plain": [
       "<Figure size 720x432 with 1 Axes>"
      ]
     },
     "metadata": {
      "needs_background": "light"
     },
     "output_type": "display_data"
    }
   ],
   "source": [
    "from sklearn.metrics import roc_auc_score\n",
    "from sklearn.metrics import roc_curve\n",
    "gb_roc_auc = roc_auc_score(y_test, gb.predict(X_test))\n",
    "fpr, tpr, thresholds = roc_curve(y_test, gb.predict_proba(X_test)[:,1])\n",
    "plt.figure()\n",
    "plt.plot(fpr, tpr, label='Logistic Regression (area = %0.2f)' % gb_roc_auc)\n",
    "plt.plot([0, 1], [0, 1],'r--')\n",
    "plt.xlim([0.0, 1.0])\n",
    "plt.ylim([0.0, 1.05])\n",
    "plt.xlabel('False Positive Rate')\n",
    "plt.ylabel('True Positive Rate')\n",
    "plt.title('Receiver operating characteristic')\n",
    "plt.legend(loc=\"lower right\")\n",
    "plt.savefig('Log_ROC')\n",
    "plt.show()"
   ]
  },
  {
   "cell_type": "markdown",
   "metadata": {},
   "source": [
    "The receiver operating characteristic (ROC) curve is another common tool used with binary classifiers. The dotted line represents the ROC curve of a purely random classifier; a good classifier stays as far away from that line as possible (toward the top-left corner)."
   ]
  },
  {
   "cell_type": "markdown",
   "metadata": {},
   "source": [
    "# Real-time Prediction"
   ]
  },
  {
   "cell_type": "code",
   "execution_count": 46,
   "metadata": {},
   "outputs": [
    {
     "data": {
      "text/html": [
       "<div>\n",
       "<style scoped>\n",
       "    .dataframe tbody tr th:only-of-type {\n",
       "        vertical-align: middle;\n",
       "    }\n",
       "\n",
       "    .dataframe tbody tr th {\n",
       "        vertical-align: top;\n",
       "    }\n",
       "\n",
       "    .dataframe thead th {\n",
       "        text-align: right;\n",
       "    }\n",
       "</style>\n",
       "<table border=\"1\" class=\"dataframe\">\n",
       "  <thead>\n",
       "    <tr style=\"text-align: right;\">\n",
       "      <th></th>\n",
       "      <th>Applicant_ID</th>\n",
       "      <th>PD</th>\n",
       "    </tr>\n",
       "  </thead>\n",
       "  <tbody>\n",
       "    <tr>\n",
       "      <th>0</th>\n",
       "      <td>545710</td>\n",
       "      <td>0.802758</td>\n",
       "    </tr>\n",
       "    <tr>\n",
       "      <th>1</th>\n",
       "      <td>69664096</td>\n",
       "      <td>0.148350</td>\n",
       "    </tr>\n",
       "    <tr>\n",
       "      <th>2</th>\n",
       "      <td>8965180</td>\n",
       "      <td>0.024139</td>\n",
       "    </tr>\n",
       "    <tr>\n",
       "      <th>3</th>\n",
       "      <td>70572960</td>\n",
       "      <td>0.067681</td>\n",
       "    </tr>\n",
       "    <tr>\n",
       "      <th>4</th>\n",
       "      <td>68589517</td>\n",
       "      <td>0.624818</td>\n",
       "    </tr>\n",
       "    <tr>\n",
       "      <th>5</th>\n",
       "      <td>107370446</td>\n",
       "      <td>0.037553</td>\n",
       "    </tr>\n",
       "    <tr>\n",
       "      <th>6</th>\n",
       "      <td>114228157</td>\n",
       "      <td>0.696750</td>\n",
       "    </tr>\n",
       "    <tr>\n",
       "      <th>7</th>\n",
       "      <td>35511139</td>\n",
       "      <td>0.012381</td>\n",
       "    </tr>\n",
       "    <tr>\n",
       "      <th>8</th>\n",
       "      <td>91060858</td>\n",
       "      <td>0.958422</td>\n",
       "    </tr>\n",
       "    <tr>\n",
       "      <th>9</th>\n",
       "      <td>1454308</td>\n",
       "      <td>0.868812</td>\n",
       "    </tr>\n",
       "  </tbody>\n",
       "</table>\n",
       "</div>"
      ],
      "text/plain": [
       "   Applicant_ID        PD\n",
       "0        545710  0.802758\n",
       "1      69664096  0.148350\n",
       "2       8965180  0.024139\n",
       "3      70572960  0.067681\n",
       "4      68589517  0.624818\n",
       "5     107370446  0.037553\n",
       "6     114228157  0.696750\n",
       "7      35511139  0.012381\n",
       "8      91060858  0.958422\n",
       "9       1454308  0.868812"
      ]
     },
     "execution_count": 46,
     "metadata": {},
     "output_type": "execute_result"
    }
   ],
   "source": [
    "data['PD'] = gb.predict_proba(data[X_train.columns])[:,1]\n",
    "data[['Applicant_ID','PD']].head(10)"
   ]
  },
  {
   "cell_type": "code",
   "execution_count": null,
   "metadata": {},
   "outputs": [],
   "source": []
  }
 ],
 "metadata": {
  "kernelspec": {
   "display_name": "Python 3",
   "language": "python",
   "name": "python3"
  },
  "language_info": {
   "codemirror_mode": {
    "name": "ipython",
    "version": 3
   },
   "file_extension": ".py",
   "mimetype": "text/x-python",
   "name": "python",
   "nbconvert_exporter": "python",
   "pygments_lexer": "ipython3",
   "version": "3.7.6"
  }
 },
 "nbformat": 4,
 "nbformat_minor": 4
}
